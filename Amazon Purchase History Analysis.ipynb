{
 "cells": [
  {
   "cell_type": "markdown",
   "metadata": {},
   "source": [
    "## Analysis: Amazon purchase history ##"
   ]
  },
  {
   "cell_type": "markdown",
   "metadata": {},
   "source": [
    "_Import libraries and packages_"
   ]
  },
  {
   "cell_type": "code",
   "execution_count": 93,
   "metadata": {},
   "outputs": [],
   "source": [
    "import pandas as pd\n",
    "import matplotlib.pyplot as plt\n",
    "import numpy as np\n",
    "import path"
   ]
  },
  {
   "cell_type": "markdown",
   "metadata": {},
   "source": [
    "_Import data_"
   ]
  },
  {
   "cell_type": "code",
   "execution_count": 81,
   "metadata": {},
   "outputs": [],
   "source": [
    "path = '/Users/paulraymond/Documents/amazon_items.xlsx'\n",
    "reader = open(path)"
   ]
  },
  {
   "cell_type": "code",
   "execution_count": 82,
   "metadata": {},
   "outputs": [],
   "source": [
    "df = pd.read_excel(path)"
   ]
  },
  {
   "cell_type": "code",
   "execution_count": 83,
   "metadata": {},
   "outputs": [
    {
     "data": {
      "text/html": [
       "<div>\n",
       "<style scoped>\n",
       "    .dataframe tbody tr th:only-of-type {\n",
       "        vertical-align: middle;\n",
       "    }\n",
       "\n",
       "    .dataframe tbody tr th {\n",
       "        vertical-align: top;\n",
       "    }\n",
       "\n",
       "    .dataframe thead th {\n",
       "        text-align: right;\n",
       "    }\n",
       "</style>\n",
       "<table border=\"1\" class=\"dataframe\">\n",
       "  <thead>\n",
       "    <tr style=\"text-align: right;\">\n",
       "      <th></th>\n",
       "      <th>Order Date</th>\n",
       "      <th>Order ID</th>\n",
       "      <th>Title</th>\n",
       "      <th>Category</th>\n",
       "      <th>ASIN/ISBN</th>\n",
       "      <th>UNSPSC Code</th>\n",
       "      <th>Website</th>\n",
       "      <th>Release Date</th>\n",
       "      <th>Condition</th>\n",
       "      <th>Seller</th>\n",
       "      <th>...</th>\n",
       "      <th>Carrier Name &amp; Tracking Number</th>\n",
       "      <th>Item Subtotal</th>\n",
       "      <th>Item Subtotal Tax</th>\n",
       "      <th>Item Total</th>\n",
       "      <th>Tax Exemption Applied</th>\n",
       "      <th>Tax Exemption Type</th>\n",
       "      <th>Exemption Opt-Out</th>\n",
       "      <th>Buyer Name</th>\n",
       "      <th>Currency</th>\n",
       "      <th>Group Name</th>\n",
       "    </tr>\n",
       "  </thead>\n",
       "  <tbody>\n",
       "    <tr>\n",
       "      <th>362</th>\n",
       "      <td>2019-04-19</td>\n",
       "      <td>113-4431164-5334627</td>\n",
       "      <td>Sea to Summit Travelling Light Hanging Toiletr...</td>\n",
       "      <td>Sports</td>\n",
       "      <td>B00D8TYC4U</td>\n",
       "      <td>49000000.0</td>\n",
       "      <td>Amazon.com</td>\n",
       "      <td>NaT</td>\n",
       "      <td>new</td>\n",
       "      <td>luichel</td>\n",
       "      <td>...</td>\n",
       "      <td>AMZN_US(TBA077598729000)</td>\n",
       "      <td>34.05</td>\n",
       "      <td>0.00</td>\n",
       "      <td>34.05</td>\n",
       "      <td>NaN</td>\n",
       "      <td>NaN</td>\n",
       "      <td>NaN</td>\n",
       "      <td>p ray</td>\n",
       "      <td>USD</td>\n",
       "      <td>NaN</td>\n",
       "    </tr>\n",
       "    <tr>\n",
       "      <th>363</th>\n",
       "      <td>2019-04-19</td>\n",
       "      <td>113-4431164-5334627</td>\n",
       "      <td>Moleskine Cahier Soft Cover Journal, Set of 3,...</td>\n",
       "      <td>Paperback</td>\n",
       "      <td>8883704894</td>\n",
       "      <td>14111500.0</td>\n",
       "      <td>Amazon.com</td>\n",
       "      <td>2016-01-08</td>\n",
       "      <td>new</td>\n",
       "      <td>Amazon.com</td>\n",
       "      <td>...</td>\n",
       "      <td>AMZN_US(TBA073599201000)</td>\n",
       "      <td>9.75</td>\n",
       "      <td>0.68</td>\n",
       "      <td>10.43</td>\n",
       "      <td>NaN</td>\n",
       "      <td>NaN</td>\n",
       "      <td>NaN</td>\n",
       "      <td>p ray</td>\n",
       "      <td>USD</td>\n",
       "      <td>NaN</td>\n",
       "    </tr>\n",
       "    <tr>\n",
       "      <th>364</th>\n",
       "      <td>2019-04-22</td>\n",
       "      <td>113-5455473-0764215</td>\n",
       "      <td>Typing Instructor Platinum 21 - Mac [Mac Downl...</td>\n",
       "      <td>Software Download</td>\n",
       "      <td>B07L69TS4L</td>\n",
       "      <td>43230000.0</td>\n",
       "      <td>Amazon.com</td>\n",
       "      <td>2018-11-15</td>\n",
       "      <td>new</td>\n",
       "      <td>Amazon  Digital  Services LLC</td>\n",
       "      <td>...</td>\n",
       "      <td>NaN</td>\n",
       "      <td>29.99</td>\n",
       "      <td>0.00</td>\n",
       "      <td>29.99</td>\n",
       "      <td>NaN</td>\n",
       "      <td>NaN</td>\n",
       "      <td>NaN</td>\n",
       "      <td>p ray</td>\n",
       "      <td>USD</td>\n",
       "      <td>NaN</td>\n",
       "    </tr>\n",
       "    <tr>\n",
       "      <th>365</th>\n",
       "      <td>2019-07-16</td>\n",
       "      <td>111-7969991-8532253</td>\n",
       "      <td>Wave</td>\n",
       "      <td>Paperback</td>\n",
       "      <td>345804317</td>\n",
       "      <td>55101500.0</td>\n",
       "      <td>Amazon.com</td>\n",
       "      <td>2013-12-31</td>\n",
       "      <td>new</td>\n",
       "      <td>Amazon.com</td>\n",
       "      <td>...</td>\n",
       "      <td>USPS(9341989677090067084922)</td>\n",
       "      <td>12.00</td>\n",
       "      <td>0.35</td>\n",
       "      <td>12.35</td>\n",
       "      <td>NaN</td>\n",
       "      <td>NaN</td>\n",
       "      <td>NaN</td>\n",
       "      <td>p ray</td>\n",
       "      <td>USD</td>\n",
       "      <td>NaN</td>\n",
       "    </tr>\n",
       "    <tr>\n",
       "      <th>366</th>\n",
       "      <td>2019-07-16</td>\n",
       "      <td>111-7969991-8532253</td>\n",
       "      <td>H Is for Hawk</td>\n",
       "      <td>Paperback</td>\n",
       "      <td>802124739</td>\n",
       "      <td>55101500.0</td>\n",
       "      <td>Amazon.com</td>\n",
       "      <td>NaT</td>\n",
       "      <td>new</td>\n",
       "      <td>Amazon.com</td>\n",
       "      <td>...</td>\n",
       "      <td>USPS(9341989677090067084922)</td>\n",
       "      <td>5.22</td>\n",
       "      <td>0.15</td>\n",
       "      <td>5.37</td>\n",
       "      <td>NaN</td>\n",
       "      <td>NaN</td>\n",
       "      <td>NaN</td>\n",
       "      <td>p ray</td>\n",
       "      <td>USD</td>\n",
       "      <td>NaN</td>\n",
       "    </tr>\n",
       "  </tbody>\n",
       "</table>\n",
       "<p>5 rows × 36 columns</p>\n",
       "</div>"
      ],
      "text/plain": [
       "    Order Date             Order ID  \\\n",
       "362 2019-04-19  113-4431164-5334627   \n",
       "363 2019-04-19  113-4431164-5334627   \n",
       "364 2019-04-22  113-5455473-0764215   \n",
       "365 2019-07-16  111-7969991-8532253   \n",
       "366 2019-07-16  111-7969991-8532253   \n",
       "\n",
       "                                                 Title           Category  \\\n",
       "362  Sea to Summit Travelling Light Hanging Toiletr...             Sports   \n",
       "363  Moleskine Cahier Soft Cover Journal, Set of 3,...          Paperback   \n",
       "364  Typing Instructor Platinum 21 - Mac [Mac Downl...  Software Download   \n",
       "365                                               Wave          Paperback   \n",
       "366                                      H Is for Hawk          Paperback   \n",
       "\n",
       "      ASIN/ISBN  UNSPSC Code     Website Release Date Condition  \\\n",
       "362  B00D8TYC4U   49000000.0  Amazon.com          NaT       new   \n",
       "363  8883704894   14111500.0  Amazon.com   2016-01-08       new   \n",
       "364  B07L69TS4L   43230000.0  Amazon.com   2018-11-15       new   \n",
       "365   345804317   55101500.0  Amazon.com   2013-12-31       new   \n",
       "366   802124739   55101500.0  Amazon.com          NaT       new   \n",
       "\n",
       "                            Seller  ...  Carrier Name & Tracking Number  \\\n",
       "362                        luichel  ...        AMZN_US(TBA077598729000)   \n",
       "363                     Amazon.com  ...        AMZN_US(TBA073599201000)   \n",
       "364  Amazon  Digital  Services LLC  ...                             NaN   \n",
       "365                     Amazon.com  ...    USPS(9341989677090067084922)   \n",
       "366                     Amazon.com  ...    USPS(9341989677090067084922)   \n",
       "\n",
       "     Item Subtotal  Item Subtotal Tax  Item Total Tax Exemption Applied  \\\n",
       "362          34.05               0.00       34.05                   NaN   \n",
       "363           9.75               0.68       10.43                   NaN   \n",
       "364          29.99               0.00       29.99                   NaN   \n",
       "365          12.00               0.35       12.35                   NaN   \n",
       "366           5.22               0.15        5.37                   NaN   \n",
       "\n",
       "     Tax Exemption Type  Exemption Opt-Out Buyer Name Currency Group Name  \n",
       "362                 NaN                NaN      p ray      USD        NaN  \n",
       "363                 NaN                NaN      p ray      USD        NaN  \n",
       "364                 NaN                NaN      p ray      USD        NaN  \n",
       "365                 NaN                NaN      p ray      USD        NaN  \n",
       "366                 NaN                NaN      p ray      USD        NaN  \n",
       "\n",
       "[5 rows x 36 columns]"
      ]
     },
     "execution_count": 83,
     "metadata": {},
     "output_type": "execute_result"
    }
   ],
   "source": [
    "df.tail()"
   ]
  },
  {
   "cell_type": "code",
   "execution_count": 84,
   "metadata": {},
   "outputs": [
    {
     "name": "stdout",
     "output_type": "stream",
     "text": [
      "<class 'pandas.core.frame.DataFrame'>\n",
      "RangeIndex: 367 entries, 0 to 366\n",
      "Data columns (total 36 columns):\n",
      "Order Date                        367 non-null datetime64[ns]\n",
      "Order ID                          367 non-null object\n",
      "Title                             367 non-null object\n",
      "Category                          346 non-null object\n",
      "ASIN/ISBN                         367 non-null object\n",
      "UNSPSC Code                       351 non-null float64\n",
      "Website                           367 non-null object\n",
      "Release Date                      143 non-null datetime64[ns]\n",
      "Condition                         359 non-null object\n",
      "Seller                            363 non-null object\n",
      "Seller Credentials                0 non-null float64\n",
      "List Price Per Unit               367 non-null float64\n",
      "Purchase Price Per Unit           367 non-null float64\n",
      "Quantity                          367 non-null int64\n",
      "Payment Instrument Type           367 non-null object\n",
      "Purchase Order Number             0 non-null float64\n",
      "PO Line Number                    0 non-null float64\n",
      "Ordering Customer Email           367 non-null object\n",
      "Shipment Date                     365 non-null datetime64[ns]\n",
      "Shipping Address Name             367 non-null object\n",
      "Shipping Address Street 1         358 non-null object\n",
      "Shipping Address Street 2         0 non-null float64\n",
      "Shipping Address City             358 non-null object\n",
      "Shipping Address State            358 non-null object\n",
      "Shipping Address Zip              358 non-null object\n",
      "Order Status                      365 non-null object\n",
      "Carrier Name & Tracking Number    356 non-null object\n",
      "Item Subtotal                     367 non-null float64\n",
      "Item Subtotal Tax                 367 non-null float64\n",
      "Item Total                        367 non-null float64\n",
      "Tax Exemption Applied             0 non-null float64\n",
      "Tax Exemption Type                0 non-null float64\n",
      "Exemption Opt-Out                 0 non-null float64\n",
      "Buyer Name                        367 non-null object\n",
      "Currency                          367 non-null object\n",
      "Group Name                        0 non-null float64\n",
      "dtypes: datetime64[ns](3), float64(14), int64(1), object(18)\n",
      "memory usage: 103.3+ KB\n"
     ]
    }
   ],
   "source": [
    "df.info()"
   ]
  },
  {
   "cell_type": "code",
   "execution_count": 85,
   "metadata": {},
   "outputs": [
    {
     "data": {
      "text/plain": [
       "Index(['Order Date', 'Order ID', 'Title', 'Category', 'ASIN/ISBN',\n",
       "       'UNSPSC Code', 'Website', 'Release Date', 'Condition', 'Seller',\n",
       "       'Seller Credentials', 'List Price Per Unit', 'Purchase Price Per Unit',\n",
       "       'Quantity', 'Payment Instrument Type', 'Purchase Order Number',\n",
       "       'PO Line Number', 'Ordering Customer Email', 'Shipment Date',\n",
       "       'Shipping Address Name', 'Shipping Address Street 1',\n",
       "       'Shipping Address Street 2', 'Shipping Address City',\n",
       "       'Shipping Address State', 'Shipping Address Zip', 'Order Status',\n",
       "       'Carrier Name & Tracking Number', 'Item Subtotal', 'Item Subtotal Tax',\n",
       "       'Item Total', 'Tax Exemption Applied', 'Tax Exemption Type',\n",
       "       'Exemption Opt-Out', 'Buyer Name', 'Currency', 'Group Name'],\n",
       "      dtype='object')"
      ]
     },
     "execution_count": 85,
     "metadata": {},
     "output_type": "execute_result"
    }
   ],
   "source": [
    "df.columns"
   ]
  },
  {
   "cell_type": "code",
   "execution_count": 86,
   "metadata": {},
   "outputs": [],
   "source": [
    "num_cols = ['List Price Per Unit', 'Purchase Price Per Unit',\n",
    "       'Quantity','Item Subtotal', 'Item Subtotal Tax',\n",
    "       'Item Total', 'Tax Exemption Applied']"
   ]
  },
  {
   "cell_type": "code",
   "execution_count": 87,
   "metadata": {},
   "outputs": [],
   "source": [
    "# for col in num_cols:\n",
    "#     df[col] = df[col][:126].replace('[\\$]', '', regex=True).astype(float)\n",
    "   "
   ]
  },
  {
   "cell_type": "code",
   "execution_count": 88,
   "metadata": {},
   "outputs": [],
   "source": [
    "# df.info()"
   ]
  },
  {
   "cell_type": "code",
   "execution_count": 89,
   "metadata": {},
   "outputs": [
    {
     "data": {
      "text/html": [
       "<div>\n",
       "<style scoped>\n",
       "    .dataframe tbody tr th:only-of-type {\n",
       "        vertical-align: middle;\n",
       "    }\n",
       "\n",
       "    .dataframe tbody tr th {\n",
       "        vertical-align: top;\n",
       "    }\n",
       "\n",
       "    .dataframe thead th {\n",
       "        text-align: right;\n",
       "    }\n",
       "</style>\n",
       "<table border=\"1\" class=\"dataframe\">\n",
       "  <thead>\n",
       "    <tr style=\"text-align: right;\">\n",
       "      <th></th>\n",
       "      <th>UNSPSC Code</th>\n",
       "      <th>Seller Credentials</th>\n",
       "      <th>List Price Per Unit</th>\n",
       "      <th>Purchase Price Per Unit</th>\n",
       "      <th>Quantity</th>\n",
       "      <th>Purchase Order Number</th>\n",
       "      <th>PO Line Number</th>\n",
       "      <th>Shipping Address Street 2</th>\n",
       "      <th>Item Subtotal</th>\n",
       "      <th>Item Subtotal Tax</th>\n",
       "      <th>Item Total</th>\n",
       "      <th>Tax Exemption Applied</th>\n",
       "      <th>Tax Exemption Type</th>\n",
       "      <th>Exemption Opt-Out</th>\n",
       "      <th>Group Name</th>\n",
       "    </tr>\n",
       "  </thead>\n",
       "  <tbody>\n",
       "    <tr>\n",
       "      <th>count</th>\n",
       "      <td>3.510000e+02</td>\n",
       "      <td>0.0</td>\n",
       "      <td>367.000000</td>\n",
       "      <td>367.000000</td>\n",
       "      <td>367.000000</td>\n",
       "      <td>0.0</td>\n",
       "      <td>0.0</td>\n",
       "      <td>0.0</td>\n",
       "      <td>367.000000</td>\n",
       "      <td>367.000000</td>\n",
       "      <td>367.000000</td>\n",
       "      <td>0.0</td>\n",
       "      <td>0.0</td>\n",
       "      <td>0.0</td>\n",
       "      <td>0.0</td>\n",
       "    </tr>\n",
       "    <tr>\n",
       "      <th>mean</th>\n",
       "      <td>5.149566e+07</td>\n",
       "      <td>NaN</td>\n",
       "      <td>45.717657</td>\n",
       "      <td>30.309619</td>\n",
       "      <td>1.079019</td>\n",
       "      <td>NaN</td>\n",
       "      <td>NaN</td>\n",
       "      <td>NaN</td>\n",
       "      <td>31.392343</td>\n",
       "      <td>0.927384</td>\n",
       "      <td>32.319728</td>\n",
       "      <td>NaN</td>\n",
       "      <td>NaN</td>\n",
       "      <td>NaN</td>\n",
       "      <td>NaN</td>\n",
       "    </tr>\n",
       "    <tr>\n",
       "      <th>std</th>\n",
       "      <td>6.810305e+06</td>\n",
       "      <td>NaN</td>\n",
       "      <td>144.230304</td>\n",
       "      <td>96.481383</td>\n",
       "      <td>0.508691</td>\n",
       "      <td>NaN</td>\n",
       "      <td>NaN</td>\n",
       "      <td>NaN</td>\n",
       "      <td>96.849330</td>\n",
       "      <td>2.945811</td>\n",
       "      <td>98.065982</td>\n",
       "      <td>NaN</td>\n",
       "      <td>NaN</td>\n",
       "      <td>NaN</td>\n",
       "      <td>NaN</td>\n",
       "    </tr>\n",
       "    <tr>\n",
       "      <th>min</th>\n",
       "      <td>1.411150e+07</td>\n",
       "      <td>NaN</td>\n",
       "      <td>0.000000</td>\n",
       "      <td>0.000000</td>\n",
       "      <td>0.000000</td>\n",
       "      <td>NaN</td>\n",
       "      <td>NaN</td>\n",
       "      <td>NaN</td>\n",
       "      <td>0.000000</td>\n",
       "      <td>0.000000</td>\n",
       "      <td>0.000000</td>\n",
       "      <td>NaN</td>\n",
       "      <td>NaN</td>\n",
       "      <td>NaN</td>\n",
       "      <td>NaN</td>\n",
       "    </tr>\n",
       "    <tr>\n",
       "      <th>25%</th>\n",
       "      <td>5.018205e+07</td>\n",
       "      <td>NaN</td>\n",
       "      <td>9.990000</td>\n",
       "      <td>8.575000</td>\n",
       "      <td>1.000000</td>\n",
       "      <td>NaN</td>\n",
       "      <td>NaN</td>\n",
       "      <td>NaN</td>\n",
       "      <td>8.470000</td>\n",
       "      <td>0.000000</td>\n",
       "      <td>8.545000</td>\n",
       "      <td>NaN</td>\n",
       "      <td>NaN</td>\n",
       "      <td>NaN</td>\n",
       "      <td>NaN</td>\n",
       "    </tr>\n",
       "    <tr>\n",
       "      <th>50%</th>\n",
       "      <td>5.313160e+07</td>\n",
       "      <td>NaN</td>\n",
       "      <td>19.950000</td>\n",
       "      <td>13.460000</td>\n",
       "      <td>1.000000</td>\n",
       "      <td>NaN</td>\n",
       "      <td>NaN</td>\n",
       "      <td>NaN</td>\n",
       "      <td>13.890000</td>\n",
       "      <td>0.000000</td>\n",
       "      <td>14.140000</td>\n",
       "      <td>NaN</td>\n",
       "      <td>NaN</td>\n",
       "      <td>NaN</td>\n",
       "      <td>NaN</td>\n",
       "    </tr>\n",
       "    <tr>\n",
       "      <th>75%</th>\n",
       "      <td>5.510150e+07</td>\n",
       "      <td>NaN</td>\n",
       "      <td>30.000000</td>\n",
       "      <td>22.105000</td>\n",
       "      <td>1.000000</td>\n",
       "      <td>NaN</td>\n",
       "      <td>NaN</td>\n",
       "      <td>NaN</td>\n",
       "      <td>24.970000</td>\n",
       "      <td>0.810000</td>\n",
       "      <td>26.085000</td>\n",
       "      <td>NaN</td>\n",
       "      <td>NaN</td>\n",
       "      <td>NaN</td>\n",
       "      <td>NaN</td>\n",
       "    </tr>\n",
       "    <tr>\n",
       "      <th>max</th>\n",
       "      <td>6.415150e+07</td>\n",
       "      <td>NaN</td>\n",
       "      <td>1699.990000</td>\n",
       "      <td>1631.000000</td>\n",
       "      <td>8.000000</td>\n",
       "      <td>NaN</td>\n",
       "      <td>NaN</td>\n",
       "      <td>NaN</td>\n",
       "      <td>1631.000000</td>\n",
       "      <td>32.320000</td>\n",
       "      <td>1631.000000</td>\n",
       "      <td>NaN</td>\n",
       "      <td>NaN</td>\n",
       "      <td>NaN</td>\n",
       "      <td>NaN</td>\n",
       "    </tr>\n",
       "  </tbody>\n",
       "</table>\n",
       "</div>"
      ],
      "text/plain": [
       "        UNSPSC Code  Seller Credentials  List Price Per Unit  \\\n",
       "count  3.510000e+02                 0.0           367.000000   \n",
       "mean   5.149566e+07                 NaN            45.717657   \n",
       "std    6.810305e+06                 NaN           144.230304   \n",
       "min    1.411150e+07                 NaN             0.000000   \n",
       "25%    5.018205e+07                 NaN             9.990000   \n",
       "50%    5.313160e+07                 NaN            19.950000   \n",
       "75%    5.510150e+07                 NaN            30.000000   \n",
       "max    6.415150e+07                 NaN          1699.990000   \n",
       "\n",
       "       Purchase Price Per Unit    Quantity  Purchase Order Number  \\\n",
       "count               367.000000  367.000000                    0.0   \n",
       "mean                 30.309619    1.079019                    NaN   \n",
       "std                  96.481383    0.508691                    NaN   \n",
       "min                   0.000000    0.000000                    NaN   \n",
       "25%                   8.575000    1.000000                    NaN   \n",
       "50%                  13.460000    1.000000                    NaN   \n",
       "75%                  22.105000    1.000000                    NaN   \n",
       "max                1631.000000    8.000000                    NaN   \n",
       "\n",
       "       PO Line Number  Shipping Address Street 2  Item Subtotal  \\\n",
       "count             0.0                        0.0     367.000000   \n",
       "mean              NaN                        NaN      31.392343   \n",
       "std               NaN                        NaN      96.849330   \n",
       "min               NaN                        NaN       0.000000   \n",
       "25%               NaN                        NaN       8.470000   \n",
       "50%               NaN                        NaN      13.890000   \n",
       "75%               NaN                        NaN      24.970000   \n",
       "max               NaN                        NaN    1631.000000   \n",
       "\n",
       "       Item Subtotal Tax   Item Total  Tax Exemption Applied  \\\n",
       "count         367.000000   367.000000                    0.0   \n",
       "mean            0.927384    32.319728                    NaN   \n",
       "std             2.945811    98.065982                    NaN   \n",
       "min             0.000000     0.000000                    NaN   \n",
       "25%             0.000000     8.545000                    NaN   \n",
       "50%             0.000000    14.140000                    NaN   \n",
       "75%             0.810000    26.085000                    NaN   \n",
       "max            32.320000  1631.000000                    NaN   \n",
       "\n",
       "       Tax Exemption Type  Exemption Opt-Out  Group Name  \n",
       "count                 0.0                0.0         0.0  \n",
       "mean                  NaN                NaN         NaN  \n",
       "std                   NaN                NaN         NaN  \n",
       "min                   NaN                NaN         NaN  \n",
       "25%                   NaN                NaN         NaN  \n",
       "50%                   NaN                NaN         NaN  \n",
       "75%                   NaN                NaN         NaN  \n",
       "max                   NaN                NaN         NaN  "
      ]
     },
     "execution_count": 89,
     "metadata": {},
     "output_type": "execute_result"
    }
   ],
   "source": [
    "df.describe()"
   ]
  },
  {
   "cell_type": "code",
   "execution_count": 92,
   "metadata": {},
   "outputs": [
    {
     "data": {
      "text/plain": [
       "13.89"
      ]
     },
     "execution_count": 92,
     "metadata": {},
     "output_type": "execute_result"
    }
   ],
   "source": [
    "df['Item Subtotal'].median()"
   ]
  },
  {
   "cell_type": "code",
   "execution_count": 100,
   "metadata": {},
   "outputs": [
    {
     "data": {
      "text/plain": [
       "3"
      ]
     },
     "execution_count": 100,
     "metadata": {},
     "output_type": "execute_result"
    }
   ],
   "source": [
    "np.sum([df['Item Subtotal'] == 0.0])"
   ]
  },
  {
   "cell_type": "code",
   "execution_count": 104,
   "metadata": {},
   "outputs": [
    {
     "data": {
      "text/plain": [
       "367"
      ]
     },
     "execution_count": 104,
     "metadata": {},
     "output_type": "execute_result"
    }
   ],
   "source": [
    "len(df['Quantity'])"
   ]
  },
  {
   "cell_type": "code",
   "execution_count": 105,
   "metadata": {},
   "outputs": [
    {
     "name": "stdout",
     "output_type": "stream",
     "text": [
      "Total during period for List Price Per Unit was 16778.379999999986\n",
      "Total during period for Purchase Price Per Unit was 11123.62999999998\n",
      "Total during period for Quantity was 396\n",
      "Total during period for Item Subtotal was 11520.989999999978\n",
      "Total during period for Item Subtotal Tax was 340.3500000000002\n",
      "Total during period for Item Total was 11861.33999999999\n",
      "Total during period for Tax Exemption Applied was nan\n"
     ]
    }
   ],
   "source": [
    "for col in num_cols:\n",
    "    total = sum(df[col])\n",
    "    print(\"Total during period for {} was {}\".format(col, total))"
   ]
  },
  {
   "cell_type": "code",
   "execution_count": 107,
   "metadata": {},
   "outputs": [
    {
     "data": {
      "text/plain": [
       "0.6629740177537992"
      ]
     },
     "execution_count": 107,
     "metadata": {},
     "output_type": "execute_result"
    }
   ],
   "source": [
    "# percent of list price paid\n",
    "\n",
    "sum(df['Purchase Price Per Unit']) / sum(df['List Price Per Unit'])"
   ]
  },
  {
   "cell_type": "code",
   "execution_count": 122,
   "metadata": {},
   "outputs": [],
   "source": [
    "# df.Category"
   ]
  },
  {
   "cell_type": "code",
   "execution_count": 119,
   "metadata": {},
   "outputs": [],
   "source": [
    "books_df = df[(df['Category'] == 'Paperback') | (df['Category'] == 'Hardcover')]"
   ]
  },
  {
   "cell_type": "code",
   "execution_count": 144,
   "metadata": {},
   "outputs": [
    {
     "data": {
      "text/html": [
       "<div>\n",
       "<style scoped>\n",
       "    .dataframe tbody tr th:only-of-type {\n",
       "        vertical-align: middle;\n",
       "    }\n",
       "\n",
       "    .dataframe tbody tr th {\n",
       "        vertical-align: top;\n",
       "    }\n",
       "\n",
       "    .dataframe thead th {\n",
       "        text-align: right;\n",
       "    }\n",
       "</style>\n",
       "<table border=\"1\" class=\"dataframe\">\n",
       "  <thead>\n",
       "    <tr style=\"text-align: right;\">\n",
       "      <th></th>\n",
       "      <th>Order Date</th>\n",
       "      <th>Order ID</th>\n",
       "      <th>Title</th>\n",
       "      <th>Category</th>\n",
       "      <th>ASIN/ISBN</th>\n",
       "      <th>UNSPSC Code</th>\n",
       "      <th>Website</th>\n",
       "      <th>Release Date</th>\n",
       "      <th>Condition</th>\n",
       "      <th>Seller</th>\n",
       "      <th>...</th>\n",
       "      <th>Carrier Name &amp; Tracking Number</th>\n",
       "      <th>Item Subtotal</th>\n",
       "      <th>Item Subtotal Tax</th>\n",
       "      <th>Item Total</th>\n",
       "      <th>Tax Exemption Applied</th>\n",
       "      <th>Tax Exemption Type</th>\n",
       "      <th>Exemption Opt-Out</th>\n",
       "      <th>Buyer Name</th>\n",
       "      <th>Currency</th>\n",
       "      <th>Group Name</th>\n",
       "    </tr>\n",
       "  </thead>\n",
       "  <tbody>\n",
       "    <tr>\n",
       "      <th>2</th>\n",
       "      <td>2009-01-19</td>\n",
       "      <td>104-1526467-5993047</td>\n",
       "      <td>The Purpose Driven√Ç¬Æ Life: What on Earth Am ...</td>\n",
       "      <td>Paperback</td>\n",
       "      <td>310276993</td>\n",
       "      <td>55101500.0</td>\n",
       "      <td>Amazon.com</td>\n",
       "      <td>2007-03-13</td>\n",
       "      <td>NaN</td>\n",
       "      <td>Amazon.com</td>\n",
       "      <td>...</td>\n",
       "      <td>UPS(1Z411E0W0360073406)</td>\n",
       "      <td>10.19</td>\n",
       "      <td>0.0</td>\n",
       "      <td>10.19</td>\n",
       "      <td>NaN</td>\n",
       "      <td>NaN</td>\n",
       "      <td>NaN</td>\n",
       "      <td>p ray</td>\n",
       "      <td>USD</td>\n",
       "      <td>NaN</td>\n",
       "    </tr>\n",
       "    <tr>\n",
       "      <th>4</th>\n",
       "      <td>2009-01-19</td>\n",
       "      <td>104-1526467-5993047</td>\n",
       "      <td>The Purpose-Driven Life Journal</td>\n",
       "      <td>Hardcover</td>\n",
       "      <td>310803063</td>\n",
       "      <td>55101500.0</td>\n",
       "      <td>Amazon.com</td>\n",
       "      <td>2002-11-10</td>\n",
       "      <td>NaN</td>\n",
       "      <td>Amazon.com</td>\n",
       "      <td>...</td>\n",
       "      <td>UPS(1Z411E0W0360073406)</td>\n",
       "      <td>39.96</td>\n",
       "      <td>0.0</td>\n",
       "      <td>39.96</td>\n",
       "      <td>NaN</td>\n",
       "      <td>NaN</td>\n",
       "      <td>NaN</td>\n",
       "      <td>p ray</td>\n",
       "      <td>USD</td>\n",
       "      <td>NaN</td>\n",
       "    </tr>\n",
       "    <tr>\n",
       "      <th>5</th>\n",
       "      <td>2009-01-19</td>\n",
       "      <td>104-9391554-5689007</td>\n",
       "      <td>The Purpose-Driven Life Journal</td>\n",
       "      <td>Hardcover</td>\n",
       "      <td>310803063</td>\n",
       "      <td>55101500.0</td>\n",
       "      <td>Amazon.com</td>\n",
       "      <td>2002-11-10</td>\n",
       "      <td>NaN</td>\n",
       "      <td>Amazon.com</td>\n",
       "      <td>...</td>\n",
       "      <td>UPS(1ZA41W190331427257)</td>\n",
       "      <td>39.96</td>\n",
       "      <td>0.0</td>\n",
       "      <td>39.96</td>\n",
       "      <td>NaN</td>\n",
       "      <td>NaN</td>\n",
       "      <td>NaN</td>\n",
       "      <td>p ray</td>\n",
       "      <td>USD</td>\n",
       "      <td>NaN</td>\n",
       "    </tr>\n",
       "    <tr>\n",
       "      <th>6</th>\n",
       "      <td>2009-01-19</td>\n",
       "      <td>104-5536992-5305026</td>\n",
       "      <td>The Purpose-Driven Life Journal</td>\n",
       "      <td>Hardcover</td>\n",
       "      <td>310803063</td>\n",
       "      <td>55101500.0</td>\n",
       "      <td>Amazon.com</td>\n",
       "      <td>2002-11-10</td>\n",
       "      <td>NaN</td>\n",
       "      <td>Amazon.com</td>\n",
       "      <td>...</td>\n",
       "      <td>UPS(1Z8E26R80393587708)</td>\n",
       "      <td>79.92</td>\n",
       "      <td>0.0</td>\n",
       "      <td>79.92</td>\n",
       "      <td>NaN</td>\n",
       "      <td>NaN</td>\n",
       "      <td>NaN</td>\n",
       "      <td>p ray</td>\n",
       "      <td>USD</td>\n",
       "      <td>NaN</td>\n",
       "    </tr>\n",
       "    <tr>\n",
       "      <th>10</th>\n",
       "      <td>2010-01-04</td>\n",
       "      <td>002-4388174-7824228</td>\n",
       "      <td>Le Petit Prince (French Language Edition)</td>\n",
       "      <td>Paperback</td>\n",
       "      <td>156013983</td>\n",
       "      <td>55101500.0</td>\n",
       "      <td>Amazon.com</td>\n",
       "      <td>2001-09-04</td>\n",
       "      <td>new</td>\n",
       "      <td>Amazon.com</td>\n",
       "      <td>...</td>\n",
       "      <td>USPS(9102901001301193739395)</td>\n",
       "      <td>7.92</td>\n",
       "      <td>0.0</td>\n",
       "      <td>7.92</td>\n",
       "      <td>NaN</td>\n",
       "      <td>NaN</td>\n",
       "      <td>NaN</td>\n",
       "      <td>p ray</td>\n",
       "      <td>USD</td>\n",
       "      <td>NaN</td>\n",
       "    </tr>\n",
       "  </tbody>\n",
       "</table>\n",
       "<p>5 rows × 36 columns</p>\n",
       "</div>"
      ],
      "text/plain": [
       "   Order Date             Order ID  \\\n",
       "2  2009-01-19  104-1526467-5993047   \n",
       "4  2009-01-19  104-1526467-5993047   \n",
       "5  2009-01-19  104-9391554-5689007   \n",
       "6  2009-01-19  104-5536992-5305026   \n",
       "10 2010-01-04  002-4388174-7824228   \n",
       "\n",
       "                                                Title   Category  ASIN/ISBN  \\\n",
       "2   The Purpose Driven√Ç¬Æ Life: What on Earth Am ...  Paperback  310276993   \n",
       "4                     The Purpose-Driven Life Journal  Hardcover  310803063   \n",
       "5                     The Purpose-Driven Life Journal  Hardcover  310803063   \n",
       "6                     The Purpose-Driven Life Journal  Hardcover  310803063   \n",
       "10          Le Petit Prince (French Language Edition)  Paperback  156013983   \n",
       "\n",
       "    UNSPSC Code     Website Release Date Condition      Seller  ...  \\\n",
       "2    55101500.0  Amazon.com   2007-03-13       NaN  Amazon.com  ...   \n",
       "4    55101500.0  Amazon.com   2002-11-10       NaN  Amazon.com  ...   \n",
       "5    55101500.0  Amazon.com   2002-11-10       NaN  Amazon.com  ...   \n",
       "6    55101500.0  Amazon.com   2002-11-10       NaN  Amazon.com  ...   \n",
       "10   55101500.0  Amazon.com   2001-09-04       new  Amazon.com  ...   \n",
       "\n",
       "    Carrier Name & Tracking Number  Item Subtotal  Item Subtotal Tax  \\\n",
       "2          UPS(1Z411E0W0360073406)          10.19                0.0   \n",
       "4          UPS(1Z411E0W0360073406)          39.96                0.0   \n",
       "5          UPS(1ZA41W190331427257)          39.96                0.0   \n",
       "6          UPS(1Z8E26R80393587708)          79.92                0.0   \n",
       "10    USPS(9102901001301193739395)           7.92                0.0   \n",
       "\n",
       "    Item Total Tax Exemption Applied  Tax Exemption Type  Exemption Opt-Out  \\\n",
       "2        10.19                   NaN                 NaN                NaN   \n",
       "4        39.96                   NaN                 NaN                NaN   \n",
       "5        39.96                   NaN                 NaN                NaN   \n",
       "6        79.92                   NaN                 NaN                NaN   \n",
       "10        7.92                   NaN                 NaN                NaN   \n",
       "\n",
       "   Buyer Name Currency Group Name  \n",
       "2       p ray      USD        NaN  \n",
       "4       p ray      USD        NaN  \n",
       "5       p ray      USD        NaN  \n",
       "6       p ray      USD        NaN  \n",
       "10      p ray      USD        NaN  \n",
       "\n",
       "[5 rows x 36 columns]"
      ]
     },
     "execution_count": 144,
     "metadata": {},
     "output_type": "execute_result"
    }
   ],
   "source": [
    "books_df.head()"
   ]
  },
  {
   "cell_type": "code",
   "execution_count": 145,
   "metadata": {},
   "outputs": [
    {
     "data": {
      "text/html": [
       "<div>\n",
       "<style scoped>\n",
       "    .dataframe tbody tr th:only-of-type {\n",
       "        vertical-align: middle;\n",
       "    }\n",
       "\n",
       "    .dataframe tbody tr th {\n",
       "        vertical-align: top;\n",
       "    }\n",
       "\n",
       "    .dataframe thead th {\n",
       "        text-align: right;\n",
       "    }\n",
       "</style>\n",
       "<table border=\"1\" class=\"dataframe\">\n",
       "  <thead>\n",
       "    <tr style=\"text-align: right;\">\n",
       "      <th></th>\n",
       "      <th>UNSPSC Code</th>\n",
       "      <th>Seller Credentials</th>\n",
       "      <th>List Price Per Unit</th>\n",
       "      <th>Purchase Price Per Unit</th>\n",
       "      <th>Quantity</th>\n",
       "      <th>Purchase Order Number</th>\n",
       "      <th>PO Line Number</th>\n",
       "      <th>Shipping Address Street 2</th>\n",
       "      <th>Item Subtotal</th>\n",
       "      <th>Item Subtotal Tax</th>\n",
       "      <th>Item Total</th>\n",
       "      <th>Tax Exemption Applied</th>\n",
       "      <th>Tax Exemption Type</th>\n",
       "      <th>Exemption Opt-Out</th>\n",
       "      <th>Group Name</th>\n",
       "    </tr>\n",
       "  </thead>\n",
       "  <tbody>\n",
       "    <tr>\n",
       "      <th>count</th>\n",
       "      <td>1.100000e+02</td>\n",
       "      <td>0.0</td>\n",
       "      <td>110.000000</td>\n",
       "      <td>110.000000</td>\n",
       "      <td>110.000000</td>\n",
       "      <td>0.0</td>\n",
       "      <td>0.0</td>\n",
       "      <td>0.0</td>\n",
       "      <td>110.000000</td>\n",
       "      <td>110.000000</td>\n",
       "      <td>110.000000</td>\n",
       "      <td>0.0</td>\n",
       "      <td>0.0</td>\n",
       "      <td>0.0</td>\n",
       "      <td>0.0</td>\n",
       "    </tr>\n",
       "    <tr>\n",
       "      <th>mean</th>\n",
       "      <td>5.472886e+07</td>\n",
       "      <td>NaN</td>\n",
       "      <td>19.308364</td>\n",
       "      <td>11.868455</td>\n",
       "      <td>1.127273</td>\n",
       "      <td>NaN</td>\n",
       "      <td>NaN</td>\n",
       "      <td>NaN</td>\n",
       "      <td>13.293818</td>\n",
       "      <td>0.449091</td>\n",
       "      <td>13.742909</td>\n",
       "      <td>NaN</td>\n",
       "      <td>NaN</td>\n",
       "      <td>NaN</td>\n",
       "      <td>NaN</td>\n",
       "    </tr>\n",
       "    <tr>\n",
       "      <th>std</th>\n",
       "      <td>3.908243e+06</td>\n",
       "      <td>NaN</td>\n",
       "      <td>30.765247</td>\n",
       "      <td>6.145576</td>\n",
       "      <td>0.791110</td>\n",
       "      <td>NaN</td>\n",
       "      <td>NaN</td>\n",
       "      <td>NaN</td>\n",
       "      <td>10.172245</td>\n",
       "      <td>0.595049</td>\n",
       "      <td>10.382687</td>\n",
       "      <td>NaN</td>\n",
       "      <td>NaN</td>\n",
       "      <td>NaN</td>\n",
       "      <td>NaN</td>\n",
       "    </tr>\n",
       "    <tr>\n",
       "      <th>min</th>\n",
       "      <td>1.411150e+07</td>\n",
       "      <td>NaN</td>\n",
       "      <td>0.000000</td>\n",
       "      <td>0.290000</td>\n",
       "      <td>0.000000</td>\n",
       "      <td>NaN</td>\n",
       "      <td>NaN</td>\n",
       "      <td>NaN</td>\n",
       "      <td>0.000000</td>\n",
       "      <td>0.000000</td>\n",
       "      <td>0.000000</td>\n",
       "      <td>NaN</td>\n",
       "      <td>NaN</td>\n",
       "      <td>NaN</td>\n",
       "      <td>NaN</td>\n",
       "    </tr>\n",
       "    <tr>\n",
       "      <th>25%</th>\n",
       "      <td>5.510150e+07</td>\n",
       "      <td>NaN</td>\n",
       "      <td>10.230000</td>\n",
       "      <td>7.927500</td>\n",
       "      <td>1.000000</td>\n",
       "      <td>NaN</td>\n",
       "      <td>NaN</td>\n",
       "      <td>NaN</td>\n",
       "      <td>7.905000</td>\n",
       "      <td>0.000000</td>\n",
       "      <td>7.905000</td>\n",
       "      <td>NaN</td>\n",
       "      <td>NaN</td>\n",
       "      <td>NaN</td>\n",
       "      <td>NaN</td>\n",
       "    </tr>\n",
       "    <tr>\n",
       "      <th>50%</th>\n",
       "      <td>5.510150e+07</td>\n",
       "      <td>NaN</td>\n",
       "      <td>16.995000</td>\n",
       "      <td>11.535000</td>\n",
       "      <td>1.000000</td>\n",
       "      <td>NaN</td>\n",
       "      <td>NaN</td>\n",
       "      <td>NaN</td>\n",
       "      <td>11.660000</td>\n",
       "      <td>0.000000</td>\n",
       "      <td>12.360000</td>\n",
       "      <td>NaN</td>\n",
       "      <td>NaN</td>\n",
       "      <td>NaN</td>\n",
       "      <td>NaN</td>\n",
       "    </tr>\n",
       "    <tr>\n",
       "      <th>75%</th>\n",
       "      <td>5.510150e+07</td>\n",
       "      <td>NaN</td>\n",
       "      <td>21.990000</td>\n",
       "      <td>14.995000</td>\n",
       "      <td>1.000000</td>\n",
       "      <td>NaN</td>\n",
       "      <td>NaN</td>\n",
       "      <td>NaN</td>\n",
       "      <td>15.192500</td>\n",
       "      <td>0.847500</td>\n",
       "      <td>16.185000</td>\n",
       "      <td>NaN</td>\n",
       "      <td>NaN</td>\n",
       "      <td>NaN</td>\n",
       "      <td>NaN</td>\n",
       "    </tr>\n",
       "    <tr>\n",
       "      <th>max</th>\n",
       "      <td>5.510150e+07</td>\n",
       "      <td>NaN</td>\n",
       "      <td>324.950000</td>\n",
       "      <td>39.790000</td>\n",
       "      <td>8.000000</td>\n",
       "      <td>NaN</td>\n",
       "      <td>NaN</td>\n",
       "      <td>NaN</td>\n",
       "      <td>79.920000</td>\n",
       "      <td>2.540000</td>\n",
       "      <td>79.920000</td>\n",
       "      <td>NaN</td>\n",
       "      <td>NaN</td>\n",
       "      <td>NaN</td>\n",
       "      <td>NaN</td>\n",
       "    </tr>\n",
       "  </tbody>\n",
       "</table>\n",
       "</div>"
      ],
      "text/plain": [
       "        UNSPSC Code  Seller Credentials  List Price Per Unit  \\\n",
       "count  1.100000e+02                 0.0           110.000000   \n",
       "mean   5.472886e+07                 NaN            19.308364   \n",
       "std    3.908243e+06                 NaN            30.765247   \n",
       "min    1.411150e+07                 NaN             0.000000   \n",
       "25%    5.510150e+07                 NaN            10.230000   \n",
       "50%    5.510150e+07                 NaN            16.995000   \n",
       "75%    5.510150e+07                 NaN            21.990000   \n",
       "max    5.510150e+07                 NaN           324.950000   \n",
       "\n",
       "       Purchase Price Per Unit    Quantity  Purchase Order Number  \\\n",
       "count               110.000000  110.000000                    0.0   \n",
       "mean                 11.868455    1.127273                    NaN   \n",
       "std                   6.145576    0.791110                    NaN   \n",
       "min                   0.290000    0.000000                    NaN   \n",
       "25%                   7.927500    1.000000                    NaN   \n",
       "50%                  11.535000    1.000000                    NaN   \n",
       "75%                  14.995000    1.000000                    NaN   \n",
       "max                  39.790000    8.000000                    NaN   \n",
       "\n",
       "       PO Line Number  Shipping Address Street 2  Item Subtotal  \\\n",
       "count             0.0                        0.0     110.000000   \n",
       "mean              NaN                        NaN      13.293818   \n",
       "std               NaN                        NaN      10.172245   \n",
       "min               NaN                        NaN       0.000000   \n",
       "25%               NaN                        NaN       7.905000   \n",
       "50%               NaN                        NaN      11.660000   \n",
       "75%               NaN                        NaN      15.192500   \n",
       "max               NaN                        NaN      79.920000   \n",
       "\n",
       "       Item Subtotal Tax  Item Total  Tax Exemption Applied  \\\n",
       "count         110.000000  110.000000                    0.0   \n",
       "mean            0.449091   13.742909                    NaN   \n",
       "std             0.595049   10.382687                    NaN   \n",
       "min             0.000000    0.000000                    NaN   \n",
       "25%             0.000000    7.905000                    NaN   \n",
       "50%             0.000000   12.360000                    NaN   \n",
       "75%             0.847500   16.185000                    NaN   \n",
       "max             2.540000   79.920000                    NaN   \n",
       "\n",
       "       Tax Exemption Type  Exemption Opt-Out  Group Name  \n",
       "count                 0.0                0.0         0.0  \n",
       "mean                  NaN                NaN         NaN  \n",
       "std                   NaN                NaN         NaN  \n",
       "min                   NaN                NaN         NaN  \n",
       "25%                   NaN                NaN         NaN  \n",
       "50%                   NaN                NaN         NaN  \n",
       "75%                   NaN                NaN         NaN  \n",
       "max                   NaN                NaN         NaN  "
      ]
     },
     "execution_count": 145,
     "metadata": {},
     "output_type": "execute_result"
    }
   ],
   "source": [
    "books_df.describe()"
   ]
  },
  {
   "cell_type": "code",
   "execution_count": 125,
   "metadata": {},
   "outputs": [
    {
     "data": {
      "text/plain": [
       "110"
      ]
     },
     "execution_count": 125,
     "metadata": {},
     "output_type": "execute_result"
    }
   ],
   "source": [
    "# Number of book orders\n",
    "len(books_df)"
   ]
  },
  {
   "cell_type": "code",
   "execution_count": 141,
   "metadata": {},
   "outputs": [
    {
     "data": {
      "text/plain": [
       "124"
      ]
     },
     "execution_count": 141,
     "metadata": {},
     "output_type": "execute_result"
    }
   ],
   "source": [
    "# total books purchased\n",
    "sum(books_df.Quantity)"
   ]
  },
  {
   "cell_type": "code",
   "execution_count": 143,
   "metadata": {},
   "outputs": [
    {
     "data": {
      "text/plain": [
       "11.535"
      ]
     },
     "execution_count": 143,
     "metadata": {},
     "output_type": "execute_result"
    }
   ],
   "source": [
    "#median price\n",
    "np.median(books_df['Purchase Price Per Unit'])"
   ]
  },
  {
   "cell_type": "code",
   "execution_count": 121,
   "metadata": {},
   "outputs": [
    {
     "data": {
      "text/plain": [
       "0.2997275204359673"
      ]
     },
     "execution_count": 121,
     "metadata": {},
     "output_type": "execute_result"
    }
   ],
   "source": [
    "# percent of orders that are books\n",
    "len(books_df) / len(df)"
   ]
  },
  {
   "cell_type": "code",
   "execution_count": 124,
   "metadata": {},
   "outputs": [
    {
     "data": {
      "text/plain": [
       "0.1173654643313381"
      ]
     },
     "execution_count": 124,
     "metadata": {},
     "output_type": "execute_result"
    }
   ],
   "source": [
    "# percent spent on books\n",
    "\n",
    "sum(books_df['Purchase Price Per Unit']) / sum(df['Purchase Price Per Unit'])"
   ]
  },
  {
   "cell_type": "code",
   "execution_count": 140,
   "metadata": {},
   "outputs": [
    {
     "data": {
      "text/plain": [
       "0.6146794606199856"
      ]
     },
     "execution_count": 140,
     "metadata": {},
     "output_type": "execute_result"
    }
   ],
   "source": [
    "sum(books_df['Purchase Price Per Unit']) / sum(books_df['List Price Per Unit'])"
   ]
  },
  {
   "cell_type": "code",
   "execution_count": 126,
   "metadata": {},
   "outputs": [
    {
     "name": "stdout",
     "output_type": "stream",
     "text": [
      "The Purpose Driven√Ç¬Æ Life: What on Earth Am I Here For? (Purpose Driven√Ç¬Æ Life, The)\n",
      "The Purpose-Driven Life Journal\n",
      "The Purpose-Driven Life Journal\n",
      "The Purpose-Driven Life Journal\n",
      "Le Petit Prince (French Language Edition)\n",
      "The Reason for God: Belief in an Age of Skepticism\n",
      "Les Miserables (Petits Classiques Larousse) (French Edition)\n",
      "Charlie Et La Chocolaterie (French Edition)\n",
      "The Count of Monte Cristo (Oxford World's Classics)\n",
      "Holy Bible - New International Version\n",
      "Larousse French English Dictionary Canadian Edition\n",
      "Je t'aimerai toujours (French Edition)\n",
      "Larousse French English Dictionary Canadian Edition\n",
      "The Sudoku Challenge: 200 Puzzles to Strain Your Brain!\n",
      "The Official SAT Study Guide: For the New SAT\n",
      "My Best Mathematical and Logic Puzzles (Dover Recreational Math)\n",
      "The Official Guide for GMAT Quantitative Review, 2nd Edition\n",
      "Kaplan GMAT Verbal Foundations\n",
      "The Official SAT Study Guide, 2nd edition\n",
      "The Real ACT (CD) 3rd Edition (Real Act Prep Guide)\n",
      "The Official Guide for GMAT Verbal Review, 2nd Edition\n",
      "The Official Guide for GMAT Review\n",
      "10 Real SATs, Third Edition\n",
      "10 Real SATs, Second Edition\n",
      "The Real ACT (CD) 3rd Edition (Real Act Prep Guide)\n",
      "The Official SAT Study Guide, 2nd edition\n",
      "The 4-Hour Workweek: Escape 9-5, Live Anywhere, and Join the New Rich (Expanded and Updated)\n",
      "65 Successful Harvard Business School Application Essays, Second Edition: With Analysis by the Staff of The Harbus, the Harvard Business School Newspa\n",
      "The Associated Press Stylebook and Briefing on Media Law 2011\n",
      "The Hunger Games\n",
      "Rules for Radicals\n",
      "Pedagogy of the Oppressed\n",
      "Common Core Language Arts 4 Today, Grades 5 - 6: Daily Skill Practice (Common Core 4 Today)\n",
      "HIGH SCHOOL MATH 2012 COMMON-CORE ALGEBRA 1 PRACTICE AND PROBLEM        SOLVINGWORKBOOK GRADE 8/9\n",
      "HIGH SCHOOL MATH COMMON-CORE GEOMETRY PRACTICE/PROBLEM SOLVING WORKBOOK GRADE 9/10\n",
      "Common Core Math 4 Today, Grade 5: Daily Skill Practice (Common Core 4 Today)\n",
      "70 Must-Know Word Problems, Grade 4 (Singapore Math)\n",
      "The Official Guide for GMAT Verbal Review, 2nd Edition\n",
      "The Official Guide for GMAT Review\n",
      "The Official Guide for GMAT Quantitative Review, 2nd Edition\n",
      "HIGH SCHOOL MATH 2012 COMMON-CORE ALGEBRA 2 STUDENT COMPANION BOOK      GRADE10/11\n",
      "Kaplan Test Prep and Admissions.  SAT Course Book 2011 Edition\n",
      "Core Standards for Math, Grade 4\n",
      "The Art of Styling Sentences\n",
      "Outliers: The Story of Success\n",
      "How to Be a Gentleman Revised & Updated: A Contemporary Guide to Common Courtesy (Gentlemanners)\n",
      "The Price of Admission: How America's Ruling Class Buys Its Way into Elite Colleges--and Who Gets Left Outside the Gates\n",
      "SAT 2400 in Just 7 Steps: Perfect-Score Student Reveals How to Ace the Test\n",
      "Kaplan Test Prep and Admissions.  SAT Course Book 2011 Edition\n",
      "The Alchemist\n",
      "Pour Your Heart Into It: How Starbucks Built a Company One Cup at a Time\n",
      "The Art of Styling Sentences\n",
      "The Promise of a Pencil: How an Ordinary Person Can Create Extraordinary Change\n",
      "A People's History of the United States: 1492 to Present\n",
      "Why Are All the Black Kids Sitting Together in the Cafeteria: And Other Conversations About Race\n",
      "The Lean Startup: How Today's Entrepreneurs Use Continuous Innovation to Create Radically Successful Businesses\n",
      "Kaplan Test Prep and Admissions.  SAT Course Book 2011 Edition\n",
      "The Yahoo! Style Guide: The Ultimate Sourcebook for Writing, Editing, and Creating Content for the Digital World\n",
      "Kaplan Test Prep and Admissions.  SAT Course Book 2011 Edition\n",
      "Art of the Start 2.0\n",
      "Financial Accounting, 3rd Edition\n",
      "Official SAT Study Guide (2016 Edition) (Official Study Guide for the New Sat)\n",
      "Long Walk to Freedom: The Autobiography of Nelson Mandela\n",
      "The Art of the Start 2.0: The Time-Tested, Battle-Hardened Guide for Anyone Starting Anything\n",
      "Creative Confidence: Unleashing the Creative Potential Within Us All\n",
      "One Hundred Years of Solitude (Harper Perennial Modern Classics)\n",
      "Influence: The Psychology of Persuasion, Revised Edition\n",
      "How to Write It, Third Edition: A Complete Guide to Everything You'll Ever Write\n",
      "Mathletics: How Gamblers, Managers, and Sports Enthusiasts Use Mathematics in Baseball, Basketball, and Football\n",
      "Principles of Corporate Finance (The Mcgraw-Hill/Irwin Series in Finance, Insurance, and Real Estate) (McGraw-Hill/Irwin Series in Finance, Insurance\n",
      "Nudge: Improving Decisions About Health, Wealth, and Happiness\n",
      "Thinking, Fast and Slow\n",
      "Economics of Strategy\n",
      "We Should All Be Feminists\n",
      "Men Without Women: Stories\n",
      "Men Explain Things to Me\n",
      "Originals: How Non-Conformists Move the World\n",
      "Practical Management Science\n",
      "Rainy Season: Haiti-Then and Now\n",
      "Olio\n",
      "A Wild Sheep Chase: A Novel\n",
      "HBR's 10 Must Reads on Change Management (including featured article \"Leading Change,\" by John P. Kotter)\n",
      "Shoe Dog: A Memoir by the Creator of Nike\n",
      "The Alchemist\n",
      "The Whole30: The 30-Day Guide to Total Health and Food Freedom\n",
      "Evicted: Poverty and Profit in the American City\n",
      "Let My People Go Surfing: The Education of a Reluctant Businessman--Including 10 More Years of Business Unusual\n",
      "GMAT Official Guide 2018 Quantitative Review: Book + Online (Official Guide for Gmat Quantitative Review)\n",
      "Hunger: A Memoir of (My) Body\n",
      "Walkaway: A Novel\n",
      "Too Big to Fail: The Inside Story of How Wall Street and Washington Fought to Save the Financial System--and Themselves\n",
      "Sapiens: A Brief History of Humankind\n",
      "Half of a Yellow Sun\n",
      "The Power\n",
      "The Power\n",
      "Emotional Intelligence 2.0\n",
      "Half of a Yellow Sun\n",
      "Rainy Season: Haiti-Then and Now\n",
      "A Year of Miracles: Daily Devotions and Reflections\n",
      "The Lonesome Bodybuilder: Stories\n",
      "The Best Yes: Making Wise Decisions in the Midst of Endless Demands\n",
      "The Motorcycle Diaries: Notes on a Latin American Journey\n",
      "How To Win Friends and Influence People\n",
      "Milkman: A Novel\n",
      "Parkland Speaks: Survivors from Marjory Stoneman Douglas Share Their Stories\n",
      "Genius Foods: Become Smarter, Happier, and More Productive While Protecting Your Brain for Life (Genius Living)\n",
      "Normal People: A Novel\n",
      "Moleskine Cahier Soft Cover Journal, Set of 3, Ruled, Pocket Size (3.5\" x 5.5\") Black - for Use as Journal, Sketchbook, Composition Notebook\n",
      "Wave\n",
      "H Is for Hawk\n"
     ]
    }
   ],
   "source": [
    "for entry in books_df.Title:\n",
    "    print(entry)"
   ]
  },
  {
   "cell_type": "code",
   "execution_count": 139,
   "metadata": {},
   "outputs": [
    {
     "data": {
      "image/png": "[encoded data removed]",
      "text/plain": [
       "<Figure size 1440x1080 with 9 Axes>"
      ]
     },
     "metadata": {
      "needs_background": "light"
     },
     "output_type": "display_data"
    }
   ],
   "source": [
    "df[num_cols].hist(figsize=(20,15))\n",
    "plt.show()"
   ]
  },
  {
   "cell_type": "code",
   "execution_count": 137,
   "metadata": {},
   "outputs": [
    {
     "data": {
      "image/png": "[encoded data removed]",
      "text/plain": [
       "<Figure size 432x288 with 1 Axes>"
      ]
     },
     "metadata": {
      "needs_background": "light"
     },
     "output_type": "display_data"
    },
    {
     "data": {
      "image/png": "[encoded data removed]",
      "text/plain": [
       "<Figure size 432x288 with 1 Axes>"
      ]
     },
     "metadata": {
      "needs_background": "light"
     },
     "output_type": "display_data"
    },
    {
     "data": {
      "image/png": "[encoded data removed]",
      "text/plain": [
       "<Figure size 432x288 with 1 Axes>"
      ]
     },
     "metadata": {
      "needs_background": "light"
     },
     "output_type": "display_data"
    },
    {
     "data": {
      "image/png": "[encoded data removed]",
      "text/plain": [
       "<Figure size 432x288 with 1 Axes>"
      ]
     },
     "metadata": {
      "needs_background": "light"
     },
     "output_type": "display_data"
    },
    {
     "data": {
      "image/png": "[encoded data removed]",
      "text/plain": [
       "<Figure size 432x288 with 1 Axes>"
      ]
     },
     "metadata": {
      "needs_background": "light"
     },
     "output_type": "display_data"
    },
    {
     "data": {
      "image/png": "[encoded data removed]",
      "text/plain": [
       "<Figure size 432x288 with 1 Axes>"
      ]
     },
     "metadata": {
      "needs_background": "light"
     },
     "output_type": "display_data"
    },
    {
     "name": "stderr",
     "output_type": "stream",
     "text": [
      "/Users/paulraymond/anaconda3/lib/python3.7/site-packages/numpy/lib/function_base.py:3826: RuntimeWarning: Invalid value encountered in percentile\n",
      "  interpolation=interpolation)\n",
      "/Users/paulraymond/anaconda3/lib/python3.7/site-packages/matplotlib/cbook/__init__.py:1246: RuntimeWarning: invalid value encountered in less_equal\n",
      "  wiskhi = np.compress(x <= hival, x)\n",
      "/Users/paulraymond/anaconda3/lib/python3.7/site-packages/matplotlib/cbook/__init__.py:1253: RuntimeWarning: invalid value encountered in greater_equal\n",
      "  wisklo = np.compress(x >= loval, x)\n",
      "/Users/paulraymond/anaconda3/lib/python3.7/site-packages/matplotlib/cbook/__init__.py:1261: RuntimeWarning: invalid value encountered in less\n",
      "  np.compress(x < stats['whislo'], x),\n",
      "/Users/paulraymond/anaconda3/lib/python3.7/site-packages/matplotlib/cbook/__init__.py:1262: RuntimeWarning: invalid value encountered in greater\n",
      "  np.compress(x > stats['whishi'], x)\n"
     ]
    },
    {
     "data": {
      "image/png": "[encoded data removed]",
      "text/plain": [
       "<Figure size 432x288 with 1 Axes>"
      ]
     },
     "metadata": {
      "needs_background": "light"
     },
     "output_type": "display_data"
    }
   ],
   "source": [
    "for col in num_cols:\n",
    "    plt.boxplot(df[col])\n",
    "    plt.show()"
   ]
  },
  {
   "cell_type": "code",
   "execution_count": null,
   "metadata": {},
   "outputs": [],
   "source": []
  }
 ],
 "metadata": {
  "kernelspec": {
   "display_name": "Python 3",
   "language": "python",
   "name": "python3"
  },
  "language_info": {
   "codemirror_mode": {
    "name": "ipython",
    "version": 3
   },
   "file_extension": ".py",
   "mimetype": "text/x-python",
   "name": "python",
   "nbconvert_exporter": "python",
   "pygments_lexer": "ipython3",
   "version": "3.7.3"
  },
  "toc": {
   "base_numbering": 1,
   "nav_menu": {},
   "number_sections": true,
   "sideBar": true,
   "skip_h1_title": false,
   "title_cell": "Table of Contents",
   "title_sidebar": "Contents",
   "toc_cell": false,
   "toc_position": {},
   "toc_section_display": true,
   "toc_window_display": false
  }
 },
 "nbformat": 4,
 "nbformat_minor": 2
}
